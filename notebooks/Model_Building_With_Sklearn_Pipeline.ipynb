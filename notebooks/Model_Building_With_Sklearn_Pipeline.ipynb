{
 "cells": [
  {
   "cell_type": "code",
   "execution_count": 1,
   "id": "9031ae94",
   "metadata": {},
   "outputs": [],
   "source": [
    "# ignoring warnings\n",
    "import warnings\n",
    "warnings.filterwarnings('ignore')"
   ]
  },
  {
   "cell_type": "code",
   "execution_count": 2,
   "id": "aea1a603",
   "metadata": {},
   "outputs": [],
   "source": [
    "# importing required libraries\n",
    "import pandas as pd\n",
    "from sklearn.compose import ColumnTransformer \n",
    "from sklearn.impute import SimpleImputer\n",
    "# import category_encoders as ce\n",
    "from sklearn.preprocessing import LabelEncoder\n",
    "from sklearn.preprocessing import StandardScaler\n",
    "from sklearn.ensemble import RandomForestRegressor\n",
    "from sklearn.pipeline import Pipeline"
   ]
  },
  {
   "cell_type": "code",
   "execution_count": 11,
   "id": "c996a993",
   "metadata": {},
   "outputs": [
    {
     "data": {
      "text/html": [
       "<div>\n",
       "<style scoped>\n",
       "    .dataframe tbody tr th:only-of-type {\n",
       "        vertical-align: middle;\n",
       "    }\n",
       "\n",
       "    .dataframe tbody tr th {\n",
       "        vertical-align: top;\n",
       "    }\n",
       "\n",
       "    .dataframe thead th {\n",
       "        text-align: right;\n",
       "    }\n",
       "</style>\n",
       "<table border=\"1\" class=\"dataframe\">\n",
       "  <thead>\n",
       "    <tr style=\"text-align: right;\">\n",
       "      <th></th>\n",
       "      <th>Store</th>\n",
       "      <th>DayOfWeek</th>\n",
       "      <th>Date</th>\n",
       "      <th>Sales</th>\n",
       "      <th>Customers</th>\n",
       "      <th>Open</th>\n",
       "      <th>Promo</th>\n",
       "      <th>StateHoliday</th>\n",
       "      <th>SchoolHoliday</th>\n",
       "      <th>year</th>\n",
       "      <th>month</th>\n",
       "      <th>day</th>\n",
       "      <th>weekday</th>\n",
       "      <th>weekend</th>\n",
       "      <th>month_period</th>\n",
       "    </tr>\n",
       "  </thead>\n",
       "  <tbody>\n",
       "    <tr>\n",
       "      <th>0</th>\n",
       "      <td>1</td>\n",
       "      <td>5</td>\n",
       "      <td>2015-07-31</td>\n",
       "      <td>5263</td>\n",
       "      <td>555</td>\n",
       "      <td>1</td>\n",
       "      <td>1</td>\n",
       "      <td>0</td>\n",
       "      <td>1</td>\n",
       "      <td>2015</td>\n",
       "      <td>Jul</td>\n",
       "      <td>Friday</td>\n",
       "      <td>1</td>\n",
       "      <td>0</td>\n",
       "      <td>Ending</td>\n",
       "    </tr>\n",
       "    <tr>\n",
       "      <th>1</th>\n",
       "      <td>1</td>\n",
       "      <td>4</td>\n",
       "      <td>2015-07-30</td>\n",
       "      <td>5020</td>\n",
       "      <td>546</td>\n",
       "      <td>1</td>\n",
       "      <td>1</td>\n",
       "      <td>0</td>\n",
       "      <td>1</td>\n",
       "      <td>2015</td>\n",
       "      <td>Jul</td>\n",
       "      <td>Thursday</td>\n",
       "      <td>1</td>\n",
       "      <td>0</td>\n",
       "      <td>Ending</td>\n",
       "    </tr>\n",
       "    <tr>\n",
       "      <th>2</th>\n",
       "      <td>1</td>\n",
       "      <td>3</td>\n",
       "      <td>2015-07-29</td>\n",
       "      <td>4782</td>\n",
       "      <td>523</td>\n",
       "      <td>1</td>\n",
       "      <td>1</td>\n",
       "      <td>0</td>\n",
       "      <td>1</td>\n",
       "      <td>2015</td>\n",
       "      <td>Jul</td>\n",
       "      <td>Wednesday</td>\n",
       "      <td>1</td>\n",
       "      <td>0</td>\n",
       "      <td>Ending</td>\n",
       "    </tr>\n",
       "    <tr>\n",
       "      <th>3</th>\n",
       "      <td>1</td>\n",
       "      <td>2</td>\n",
       "      <td>2015-07-28</td>\n",
       "      <td>5011</td>\n",
       "      <td>560</td>\n",
       "      <td>1</td>\n",
       "      <td>1</td>\n",
       "      <td>0</td>\n",
       "      <td>1</td>\n",
       "      <td>2015</td>\n",
       "      <td>Jul</td>\n",
       "      <td>Tuesday</td>\n",
       "      <td>1</td>\n",
       "      <td>0</td>\n",
       "      <td>Ending</td>\n",
       "    </tr>\n",
       "    <tr>\n",
       "      <th>4</th>\n",
       "      <td>1</td>\n",
       "      <td>1</td>\n",
       "      <td>2015-07-27</td>\n",
       "      <td>6102</td>\n",
       "      <td>612</td>\n",
       "      <td>1</td>\n",
       "      <td>1</td>\n",
       "      <td>0</td>\n",
       "      <td>1</td>\n",
       "      <td>2015</td>\n",
       "      <td>Jul</td>\n",
       "      <td>Monday</td>\n",
       "      <td>1</td>\n",
       "      <td>0</td>\n",
       "      <td>Ending</td>\n",
       "    </tr>\n",
       "  </tbody>\n",
       "</table>\n",
       "</div>"
      ],
      "text/plain": [
       "   Store  DayOfWeek        Date  Sales  Customers  Open  Promo StateHoliday  \\\n",
       "0      1          5  2015-07-31   5263        555     1      1            0   \n",
       "1      1          4  2015-07-30   5020        546     1      1            0   \n",
       "2      1          3  2015-07-29   4782        523     1      1            0   \n",
       "3      1          2  2015-07-28   5011        560     1      1            0   \n",
       "4      1          1  2015-07-27   6102        612     1      1            0   \n",
       "\n",
       "   SchoolHoliday  year month        day  weekday  weekend month_period  \n",
       "0              1  2015   Jul     Friday        1        0       Ending  \n",
       "1              1  2015   Jul   Thursday        1        0       Ending  \n",
       "2              1  2015   Jul  Wednesday        1        0       Ending  \n",
       "3              1  2015   Jul    Tuesday        1        0       Ending  \n",
       "4              1  2015   Jul     Monday        1        0       Ending  "
      ]
     },
     "execution_count": 11,
     "metadata": {},
     "output_type": "execute_result"
    }
   ],
   "source": [
    "# read the training data set\n",
    "data = pd.read_csv('../data/cleaned_data.csv')\n",
    "data = data[:100000]\n",
    "# top rows of the data\n",
    "data.head()"
   ]
  },
  {
   "cell_type": "code",
   "execution_count": 12,
   "id": "b42dc81e",
   "metadata": {},
   "outputs": [],
   "source": [
    "# seperate the independent and target variables\n",
    "train_x = data.drop(columns=['Sales'])\n",
    "train_y = data['Sales']"
   ]
  },
  {
   "cell_type": "code",
   "execution_count": 14,
   "id": "ee9dd94f",
   "metadata": {},
   "outputs": [],
   "source": [
    "# import the BaseEstimator\n",
    "from sklearn.base import BaseEstimator\n",
    "\n",
    "# define the class OutletTypeEncoder\n",
    "# This will be our custom transformer that will create 3 new binary columns\n",
    "# custom transformer must have methods fit and transform\n",
    "class OutletTypeEncoder(BaseEstimator):\n",
    "\n",
    "    def __init__(self):\n",
    "        pass\n",
    "\n",
    "    def fit(self, documents, y=None):\n",
    "        return self\n",
    "\n",
    "    def transform(self, x_dataset):\n",
    "        x_dataset['month'] = (x_dataset['month'] == 'Jan')*1\n",
    "        x_dataset['month'] = (x_dataset['month'] == 'Feb')*1\n",
    "        x_dataset['month'] = (x_dataset['month'] == 'Mar')*1\n",
    "        x_dataset['month'] = (x_dataset['month'] == 'Apr')*1\n",
    "        x_dataset['month'] = (x_dataset['month'] == 'May')*1\n",
    "        x_dataset['month'] = (x_dataset['month'] == 'Jun')*1\n",
    "        x_dataset['month'] = (x_dataset['month'] == 'Jul')*1        \n",
    "        x_dataset['month'] = (x_dataset['month'] == 'Aug')*1        \n",
    "        x_dataset['month'] = (x_dataset['month'] == 'Sep')*1        \n",
    "        x_dataset['month'] = (x_dataset['month'] == 'Oct')*1        \n",
    "        x_dataset['month'] = (x_dataset['month'] == 'Nov')*1        \n",
    "        x_dataset['month'] = (x_dataset['month'] == 'Dec')*1 \n",
    "        \n",
    "        return x_dataset"
   ]
  },
  {
   "cell_type": "code",
   "execution_count": 15,
   "id": "987c8da2",
   "metadata": {},
   "outputs": [],
   "source": [
    "# pre-processsing step\n",
    "# Drop the columns - \n",
    "# Impute the missing values in column Item_Weight by mean\n",
    "# Scale the data in the column Item_MRP\n",
    "pre_process = ColumnTransformer(remainder='passthrough',\n",
    "                                transformers=[('drop_columns', 'drop', ['Date',\n",
    "                                                                        'Open',\n",
    "                                                                        'StateHoliday',\n",
    "                                                                        'SchoolHoliday',\n",
    "                                                                        'month',\n",
    "                                                                        'day',\n",
    "                                                                        'weekday',\n",
    "                                                                        'weekend',\n",
    "                                                                        'month_period']),\n",
    "                                              ('scale_data', StandardScaler(),['Store', 'DayOfWeek', 'Customers',\n",
    "                                                                               'Promo', 'year'])])"
   ]
  },
  {
   "cell_type": "code",
   "execution_count": 16,
   "id": "3b8ec1d9",
   "metadata": {},
   "outputs": [
    {
     "data": {
      "text/plain": [
       "array([4811.11019795, 4764.03151924, 4633.88828003, ..., 3554.1609131 ,\n",
       "       4876.33550308, 5993.7206681 ])"
      ]
     },
     "execution_count": 16,
     "metadata": {},
     "output_type": "execute_result"
    }
   ],
   "source": [
    "# Define the Pipeline\n",
    "\"\"\"\n",
    "Step1: get the oultet binary columns\n",
    "Step2: pre processing\n",
    "Step3: Train a Random Forest Model\n",
    "\"\"\"\n",
    "model_pipeline = Pipeline(steps=[('get_outlet_binary_columns', OutletTypeEncoder()),\n",
    "                                 ('pre_processing',pre_process),\n",
    "                                 ('random_forest', RandomForestRegressor(max_depth=10,random_state=2))\n",
    "                                 ])\n",
    "# fit the pipeline with the training data\n",
    "model_pipeline.fit(train_x,train_y)\n",
    "\n",
    "# predict target values on the training data\n",
    "model_pipeline.predict(train_x)"
   ]
  },
  {
   "cell_type": "code",
   "execution_count": 17,
   "id": "81ece3de",
   "metadata": {},
   "outputs": [
    {
     "data": {
      "text/plain": [
       "0.9409894817267572"
      ]
     },
     "execution_count": 17,
     "metadata": {},
     "output_type": "execute_result"
    }
   ],
   "source": [
    "# checking accuracy\n",
    "model_pipeline.score(train_x, train_y)"
   ]
  },
  {
   "cell_type": "code",
   "execution_count": null,
   "id": "75bba5fc",
   "metadata": {},
   "outputs": [],
   "source": []
  }
 ],
 "metadata": {
  "kernelspec": {
   "display_name": "Python 3",
   "language": "python",
   "name": "python3"
  },
  "language_info": {
   "codemirror_mode": {
    "name": "ipython",
    "version": 3
   },
   "file_extension": ".py",
   "mimetype": "text/x-python",
   "name": "python",
   "nbconvert_exporter": "python",
   "pygments_lexer": "ipython3",
   "version": "3.8.8"
  }
 },
 "nbformat": 4,
 "nbformat_minor": 5
}
